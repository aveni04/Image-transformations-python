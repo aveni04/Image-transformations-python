{
 "cells": [
  {
   "cell_type": "code",
   "execution_count": 1,
   "id": "0873223f",
   "metadata": {},
   "outputs": [
    {
     "name": "stdout",
     "output_type": "stream",
     "text": [
      "Original 4x4 Matrix:\n",
      " [[ 10  20  30  40]\n",
      " [ 50  60  70  80]\n",
      " [ 90 100 110 120]\n",
      " [130 140 150 160]]\n",
      "\n",
      "Downsampled 2x2 Matrix:\n",
      " [[ 10  30]\n",
      " [ 90 110]]\n",
      "\n",
      "Upsampled 8x8 Matrix:\n",
      " [[ 10  10  20  20  30  30  40  40]\n",
      " [ 10  10  20  20  30  30  40  40]\n",
      " [ 50  50  60  60  70  70  80  80]\n",
      " [ 50  50  60  60  70  70  80  80]\n",
      " [ 90  90 100 100 110 110 120 120]\n",
      " [ 90  90 100 100 110 110 120 120]\n",
      " [130 130 140 140 150 150 160 160]\n",
      " [130 130 140 140 150 150 160 160]]\n"
     ]
    }
   ],
   "source": [
    "#Down-sampling and up-sampling using python \n",
    "\n",
    "import numpy as np\n",
    "import cv2\n",
    "\n",
    "# Example 4x4 grayscale image (matrix with pixel values)\n",
    "image = np.array([\n",
    "    [10, 20, 30, 40],\n",
    "    [50, 60, 70, 80],\n",
    "    [90, 100, 110, 120],\n",
    "    [130, 140, 150, 160]\n",
    "], dtype=np.uint8)\n",
    "\n",
    "print(\"Original 4x4 Matrix:\\n\", image)\n",
    "\n",
    "# ---- Downsampling (reduce size) ----\n",
    "# Reduce 4x4 -> 2x2 using INTER_NEAREST (nearest neighbor)\n",
    "downsampled = cv2.resize(image, (2, 2), interpolation=cv2.INTER_NEAREST)\n",
    "print(\"\\nDownsampled 2x2 Matrix:\\n\", downsampled)\n",
    "\n",
    "# ---- Upsampling (increase size) ----\n",
    "# Upsample 4x4 -> 8x8 using INTER_NEAREST\n",
    "upsampled = cv2.resize(image, (8, 8), interpolation=cv2.INTER_NEAREST)\n",
    "print(\"\\nUpsampled 8x8 Matrix:\\n\", upsampled)\n"
   ]
  }
 ],
 "metadata": {
  "kernelspec": {
   "display_name": "Python 3",
   "language": "python",
   "name": "python3"
  },
  "language_info": {
   "codemirror_mode": {
    "name": "ipython",
    "version": 3
   },
   "file_extension": ".py",
   "mimetype": "text/x-python",
   "name": "python",
   "nbconvert_exporter": "python",
   "pygments_lexer": "ipython3",
   "version": "3.12.4"
  }
 },
 "nbformat": 4,
 "nbformat_minor": 5
}
